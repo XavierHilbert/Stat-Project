{
 "cells": [
  {
   "cell_type": "markdown",
   "metadata": {},
   "source": [
    "## Proving the Same with Poisson"
   ]
  },
  {
   "cell_type": "code",
   "execution_count": 7,
   "metadata": {},
   "outputs": [],
   "source": [
    "\"\"\"Adding All Necessary Libraries and Constants\"\"\"\n",
    "import matplotlib.pyplot as plt\n",
    "import numpy as np\n",
    "import seaborn as sns\n",
    "from statistics import mean, stdev\n",
    "from sympy import *\n",
    "from IPython.display import display\n",
    "\n",
    "NUMBER_OF_TRIALS: int = 10000"
   ]
  },
  {
   "cell_type": "markdown",
   "metadata": {},
   "source": [
    "Given:\n",
    "\n",
    "$M_{X_{i}}(t) = e^{\\lambda(e^{t} - 1)}$\n",
    "\n",
    "$\\bar{X} = \\frac{x_{1} + x_{2} + \\cdot \\cdot \\cdot + x_{n}}{n}$\n",
    "\n",
    "===================\n",
    "\n",
    "$M_{\\bar{X}}(t) = E(e^{t\\bar{X}})$\n",
    "\n",
    "$= E(e^{t(\\frac{x_{1} + x_{2} + \\cdot \\cdot \\cdot + x_{n}}{n})})$\n",
    "\n",
    "$= E(e^{\\frac{x_{1}t}{n}})E(e^{\\frac{x_{1}t}{n}})\\cdot \\cdot \\cdot E(e^{\\frac{x_{n}t}{n}})$\n",
    "\n",
    "$= [E(e^{\\frac{x_{1}t}{n}})]^{n}$\n",
    "\n",
    "$= [M_{X_{1}}(\\frac{t}{n})]^{n}$\n",
    "\n",
    "$M_{\\bar{X}}(t) =[e^{\\lambda(e^{\\frac{t}{n}} - 1)}]^{n}$"
   ]
  },
  {
   "cell_type": "code",
   "execution_count": 3,
   "metadata": {},
   "outputs": [
    {
     "name": "stdout",
     "output_type": "stream",
     "text": [
      "The E(x̄) is l\n"
     ]
    }
   ],
   "source": [
    "\"\"\"Calculating First Derivative of the MGF with respect to t at t = 0.\"\"\"\n",
    "\"\"\"Note: l is short for lambda\"\"\"\n",
    "\n",
    "l, n, t = symbols(\"l n t\")\n",
    "\n",
    "d_one_mgf = diff((exp(l*(exp(t/n)-1)))**n, t)\n",
    "expected_val_d_one = limit(d_one_mgf, t, 0)\n",
    "print(f\"The E(x̄) is {expected_val_d_one}\")"
   ]
  },
  {
   "cell_type": "code",
   "execution_count": 4,
   "metadata": {},
   "outputs": [
    {
     "name": "stdout",
     "output_type": "stream",
     "text": [
      "The E(x̄^2) is (l**2*n + l)/n\n"
     ]
    }
   ],
   "source": [
    "\"\"\"Calculating Second Derivative of the MGF with respect to t at t = 0.\"\"\"\n",
    "d_two_mgf = diff((d_one_mgf), t)\n",
    "expected_val_d_two = limit(d_two_mgf, t, 0)\n",
    "print(f\"The E(x̄^2) is {expected_val_d_two}\")"
   ]
  },
  {
   "cell_type": "code",
   "execution_count": 5,
   "metadata": {},
   "outputs": [
    {
     "name": "stdout",
     "output_type": "stream",
     "text": [
      "Standard Deviation is ... \n"
     ]
    },
    {
     "data": {
      "text/latex": [
       "$\\displaystyle \\sqrt{- l^{2} + \\frac{l^{2} n + l}{n}}$"
      ],
      "text/plain": [
       "sqrt(-l**2 + (l**2*n + l)/n)"
      ]
     },
     "metadata": {},
     "output_type": "display_data"
    }
   ],
   "source": [
    "\"\"\"Calculating Standard Deviation = sqrt(E(X^2) - [E(X)]^2).\"\"\"\n",
    "standard_deviation = sqrt(expected_val_d_two - pow(expected_val_d_one,2))\n",
    "print(\"Standard Deviation is ... \")\n",
    "display(standard_deviation)"
   ]
  },
  {
   "cell_type": "markdown",
   "metadata": {},
   "source": [
    "From Previous cell:\n",
    "\n",
    "$\\sigma = \\sqrt{-\\lambda^{2} + \\frac{\\lambda^{2}n + \\lambda}{n}}$\n",
    "\n",
    "$\\sigma = \\sqrt{-\\frac{n\\lambda^{2}}{n} + \\frac{\\lambda^{2}n + \\lambda}{n}}$\n",
    "\n",
    "$\\sigma = \\sqrt{-\\frac{n\\lambda^{2}}{n} + \\frac{\\lambda^{2}n + \\lambda}{n}}$\n",
    "\n",
    "$\\sigma = \\sqrt{\\frac{\\lambda}{n}}$"
   ]
  },
  {
   "cell_type": "markdown",
   "metadata": {},
   "source": [
    "Now that we know $E(\\bar{X}) = \\mu = \\lambda$ and $\\sigma = \\sqrt{\\frac{\\lambda}{n}}$\n",
    "\n",
    "Therefore, \n",
    "\n",
    "$ \\bar{X} = \\frac{1}{n} \\sum \\limits _{i=1} ^ {n} X_{i} \\approx N(\\lambda, \\sqrt{\\frac{\\lambda}{n}}) = N(\\mu, \\sigma)$, where $X_{i} = Poisson(\\lambda)$\n",
    "\n",
    "or alternatively\n",
    "\n",
    "$ \\bar{X} = \\frac{1}{n} \\sum \\limits _{i=1} ^ {n} X_{i} \\approx N(\\lambda, \\frac{\\lambda}{n}) = N(\\mu, \\sigma^{2})$, where $X_{i} = Poisson(\\lambda)$"
   ]
  },
  {
   "cell_type": "markdown",
   "metadata": {},
   "source": [
    "## Verifying With Simulations"
   ]
  },
  {
   "cell_type": "code",
   "execution_count": 79,
   "metadata": {},
   "outputs": [],
   "source": [
    "\"\"\"Declaring Variables\"\"\"\n",
    "# can change\n",
    "# as sigma approaches 0 the more normal the distrabution.\n",
    "mu: int = 5\n",
    "sigma: int = .05\n",
    "\n",
    "# do not change\n",
    "lmbda: int = mu\n",
    "n: int = int(lmbda/pow(sigma,2))"
   ]
  },
  {
   "cell_type": "code",
   "execution_count": 80,
   "metadata": {},
   "outputs": [],
   "source": [
    "\"\"\"Generating normal and Poisson data\"\"\"\n",
    "normal_data = np.random.normal(mu,sigma,NUMBER_OF_TRIALS)\n",
    "\n",
    "x_bar_data: list = []\n",
    "\n",
    "for _ in range(0, NUMBER_OF_TRIALS):\n",
    "    n_random_poisson_variables: list = np.random.poisson(lmbda, n)\n",
    "    average = sum(n_random_poisson_variables) / n\n",
    "    x_bar_data.append(average)"
   ]
  },
  {
   "cell_type": "code",
   "execution_count": 81,
   "metadata": {},
   "outputs": [
    {
     "data": {
      "image/png": "[encoded data removed]",
      "text/plain": [
       "<Figure size 432x288 with 1 Axes>"
      ]
     },
     "metadata": {
      "needs_background": "light"
     },
     "output_type": "display_data"
    }
   ],
   "source": [
    "\"\"\"Plotting Data\"\"\"\n",
    "plt.hist(normal_data, label=\"Normal\", alpha = .5, bins=100)\n",
    "plt.hist(x_bar_data, label=\"X Bar\", alpha = .5, bins=100)\n",
    "plt.legend(loc=\"best\")\n",
    "plt.show()"
   ]
  },
  {
   "cell_type": "code",
   "execution_count": 82,
   "metadata": {},
   "outputs": [
    {
     "name": "stdout",
     "output_type": "stream",
     "text": [
      "From Data\n",
      "~~~~~~~~~~~~~~~~~~~~~~~~~~~~~~~~~~~~~\n",
      "Normal Dist:\n",
      "Mean: 4.999758945471086\n",
      "Standard Deviation: 0.05002369466607569\n",
      "X bar Dist:\n",
      "Mean: 5.000179889944972\n",
      "Standard Deviation: 0.049817365951522814\n"
     ]
    }
   ],
   "source": [
    "print(\"From Data\")\n",
    "print(\"~~~~~~~~~~~~~~~~~~~~~~~~~~~~~~~~~~~~~\")\n",
    "print(f\"Normal Dist:\\nMean: {mean(normal_data)}\\nStandard Deviation: {stdev(normal_data)}\")\n",
    "print(f\"X bar Dist:\\nMean: {mean(x_bar_data)}\\nStandard Deviation: {stdev(x_bar_data)}\")"
   ]
  }
 ],
 "metadata": {
  "interpreter": {
   "hash": "500750683dfcc57a11026c2c30613743912cadac93dfba0578580518cb79b8fe"
  },
  "kernelspec": {
   "display_name": "",
   "language": "python",
   "name": "python3"
  },
  "language_info": {
   "codemirror_mode": {
    "name": "ipython",
    "version": 3
   },
   "file_extension": ".py",
   "mimetype": "text/x-python",
   "name": "python",
   "nbconvert_exporter": "python",
   "pygments_lexer": "ipython3",
   "version": "3.8.5"
  },
  "orig_nbformat": 4
 },
 "nbformat": 4,
 "nbformat_minor": 2
}
